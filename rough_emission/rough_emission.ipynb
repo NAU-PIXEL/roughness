{
 "cells": [
  {
   "cell_type": "markdown",
   "metadata": {},
   "source": [
    "# Rough Emission\n",
    "\n",
    "This worked example shows how to use `roughness` to compute a radiated emission spectrum from a rough surface.\n",
    "\n",
    "## Setup\n",
    "\n",
    "Make sure to install the `roughness` package and download the default lookup tables before running this example. See the [getting started](../getting_started/) page for more information.\n",
    "\n",
    "## Imports\n",
    "\n",
    "The `roughness` package provides a `RoughnessThermalModel` class that can be used to compute emission spectra from rough surfaces. The `xarray` package is used to store and manipulate the lookup tables."
   ]
  },
  {
   "cell_type": "code",
   "execution_count": null,
   "metadata": {},
   "outputs": [],
   "source": [
    "from roughness import RoughnessThermalModel\n",
    "\n",
    "# Create a model instance\n",
    "rtm = RoughnessThermalModel()\n",
    "rtm"
   ]
  },
  {
   "cell_type": "markdown",
   "metadata": {},
   "source": [
    "## Custom Lookup Tables\n",
    "\n",
    "The default lookup tables have been developed and tested for the Moon. However, `roughness` allows users to generate custom lookup tables for any body with a custom thermal model.\n",
    "\n",
    "The `shadow_lookup` table is a lookup table of probabilities that a given surface facet is in shadow. It is generated using a raytracing algorithm applied to a self-affine fractal rough surface with a default Hurst exponent chosen for lunar applications. The default surface should function for most rough planetary surfaces, but can be regenerated ysing the `roughness.make_los_table` module as described in [shadow_tables](../shadow_tables/).\n",
    "\n",
    "The `temperature_lookup` table is a lookup table of surface temperatures for each surface facet. Any thermal model can be used to generate this table and it can have arbitrary dimensionality, the only requirement is that the output is an `xarray.Dataset` with a data variable `tsurf` and contains at least the `theta` and `az` coordinates, corresponding to surface facet slope and azimuth. \n",
    "\n",
    "The default temperature table used in `roughness` was developed for the Moon using KRC ([krc.mars.asu.edu](https://krc.mars.asu.edu)) and **is** body-specific due to the unique thermal environment of each planetary body. Below is the temperature Dataset with coordinates relevant to predicting surface temperatures on the Moon. See [temperature_tables](../temperature_tables/) for more details."
   ]
  },
  {
   "cell_type": "code",
   "execution_count": null,
   "metadata": {},
   "outputs": [],
   "source": [
    "rtm.temperature_ds"
   ]
  },
  {
   "cell_type": "markdown",
   "metadata": {},
   "source": [
    "The `roughness` thermal model interpolates between the pre-computed shadowing and lookup tables to compute the emitted radiance for a given geometry and local conditions. The desired parameters are passed to the `emission` method of the `RoughnessThermalModel` object, which returns an `xarray` object containing the emitted radiance for each wavelength and roughness value. The `emission` method requires the following parameters:\n",
    "\n",
    "- `geometry`: A tuple containing the solar incidence angle, solar azimuth, spacecraft emission angle, and spacecraft azimuth, all in units of degrees. Azimuths are computed clockwise from North.\n",
    "- `wavelengths`: An array of wavelengths in units of microns where emission will be computed.\n",
    "- `rms`: The RMS roughness in units of degrees.\n",
    "- `tparams`: A dictionary containing the parameters required to interpolate the temperature lookup table. The required parameters are all coordinates of `rtm.temperature_ds` except for facet `theta` and `az`. Print `rtm.required_tparams` to check which parameters are needed.\n",
    "- `kwargs`: Additional keyword arguments are passed to `roughness.emission.rough_emission_lookup` to fine tune the emission run. See [emission](../reference/emission/) for more details."
   ]
  },
  {
   "cell_type": "code",
   "execution_count": null,
   "metadata": {},
   "outputs": [],
   "source": [
    "rtm.required_tparams"
   ]
  },
  {
   "cell_type": "markdown",
   "metadata": {},
   "source": [
    "## Predicting emission\n",
    "\n",
    "We can now use the roughness model to predict the emission from a surface with a given roughness. We'll use an RMS value of 25 degrees and pick a point near the equator. We use a helper function to compute the local time at the chosen point."
   ]
  },
  {
   "cell_type": "code",
   "execution_count": null,
   "metadata": {},
   "outputs": [],
   "source": [
    "import numpy as np\n",
    "from roughness import helpers as rh\n",
    "\n",
    "# Set parameters\n",
    "rms = 15\n",
    "wls = np.linspace(0.45, 100, 1000)\n",
    "sun_theta, sun_az = 30, 90\n",
    "sc_theta, sc_az = 60, 90\n",
    "lat = 0  # Latitude [degrees]\n",
    "ls = 0  # Solar longitude (L_s) [degrees]\n",
    "albedo = 0.12  # Directional hemispherical (thermal) albedo\n",
    "\n",
    "# Compute tloc and set tparams\n",
    "tloc = rh.inc_to_tloc(sun_theta, sun_az, lat)\n",
    "tparams = {'albedo': albedo, 'lat': lat, 'ls': ls, 'tloc': tloc}\n",
    "\n",
    "# Compute rough emission\n",
    "emission = rtm.emission(sun_theta, sun_az, sc_theta, sc_az, wls, rms, tparams)\n",
    "\n",
    "emission.plot()"
   ]
  },
  {
   "cell_type": "markdown",
   "metadata": {},
   "source": [
    "## Plotting brightness tempertures\n",
    "\n"
   ]
  },
  {
   "cell_type": "code",
   "execution_count": null,
   "metadata": {},
   "outputs": [],
   "source": [
    "from roughness import emission as re\n",
    "\n",
    "# Convert emitted radiance to brightness temperature\n",
    "btemp = re.btempw(wls, re.mrad2cmrad(emission))\n",
    "btemp.name = \"Brightness Temperature [K]\"\n",
    "\n",
    "# Plot\n",
    "btemp.plot()"
   ]
  },
  {
   "cell_type": "code",
   "execution_count": null,
   "metadata": {},
   "outputs": [],
   "source": []
  }
 ],
 "metadata": {
  "kernelspec": {
   "display_name": ".venv",
   "language": "python",
   "name": "python3"
  },
  "language_info": {
   "codemirror_mode": {
    "name": "ipython",
    "version": 3
   },
   "file_extension": ".py",
   "mimetype": "text/x-python",
   "name": "python",
   "nbconvert_exporter": "python",
   "pygments_lexer": "ipython3",
   "version": "3.10.9"
  },
  "orig_nbformat": 4
 },
 "nbformat": 4,
 "nbformat_minor": 2
}
